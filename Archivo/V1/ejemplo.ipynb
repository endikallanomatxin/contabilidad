{
 "cells": [
  {
   "cell_type": "code",
   "execution_count": 1,
   "id": "bccec186-be4d-4118-b784-9a99671bdbe7",
   "metadata": {},
   "outputs": [],
   "source": [
    "import contabilidad as cont\n",
    "import datetime as dt"
   ]
  },
  {
   "attachments": {},
   "cell_type": "markdown",
   "id": "35df7b68-3b76-4bdb-a711-c3f0a4558b3c",
   "metadata": {},
   "source": [
    "# Ejemplo"
   ]
  },
  {
   "attachments": {},
   "cell_type": "markdown",
   "metadata": {},
   "source": [
    "## Declaración"
   ]
  },
  {
   "attachments": {},
   "cell_type": "markdown",
   "metadata": {},
   "source": [
    "Inicio de la contabilidad de la empresa"
   ]
  },
  {
   "cell_type": "code",
   "execution_count": 2,
   "metadata": {},
   "outputs": [],
   "source": [
    "contabilidad_empresa_2022 = cont.Contabilidad()"
   ]
  },
  {
   "attachments": {},
   "cell_type": "markdown",
   "metadata": {},
   "source": [
    "El objeto Contabilidad contiene .libro_diario .libro_mayor y .balance"
   ]
  },
  {
   "attachments": {},
   "cell_type": "markdown",
   "metadata": {},
   "source": [
    "## Hacer asientos"
   ]
  },
  {
   "cell_type": "code",
   "execution_count": 3,
   "metadata": {},
   "outputs": [],
   "source": [
    "contabilidad_empresa_2022.añadir_asiento(\"Ampliación de capital\", {572: 750000}, {100:750000}, dt.date(2022, 3, 14))\n",
    "contabilidad_empresa_2022.añadir_asiento(\"Pago del alquiler\", {621: 150000}, {572:150000}, dt.date(2022, 4, 10))\n",
    "contabilidad_empresa_2022.añadir_asiento(\"Compra de maquinaria\", {213: 50000}, {572:50000})\n",
    "contabilidad_empresa_2022.añadir_asiento(\"Compra de mercaderías\", {600: 800000}, {572:500000, 400:300000})\n",
    "contabilidad_empresa_2022.añadir_asiento(\"Ventas (NO ENTIENDO)\", {572: 1800000}, {700:1800000})\n",
    "contabilidad_empresa_2022.añadir_asiento(\"Pago de sueldos\", {640: 160000}, {572:160000})"
   ]
  },
  {
   "attachments": {},
   "cell_type": "markdown",
   "id": "e7e327d6-abf7-41ba-8026-fa3a1df3f046",
   "metadata": {},
   "source": [
    "Cada asiento se compone de un concepto, unos diccionarios para el debe y otro para el haber (cuenta:cantidad, cuenta:cantidad) y una fecha\n",
    "\n",
    "Los asientos se van añadiendo (.append) a contabilidad_empresa_2022.libro_diario que es un objeto tipo lista (que hereda de lista). Su método tabla nos permite ver los asientos"
   ]
  },
  {
   "cell_type": "code",
   "execution_count": 4,
   "id": "8c61a93e-780a-48ea-bebb-7a9368108ce3",
   "metadata": {},
   "outputs": [
    {
     "data": {
      "text/html": [
       "<div>\n",
       "<style scoped>\n",
       "    .dataframe tbody tr th:only-of-type {\n",
       "        vertical-align: middle;\n",
       "    }\n",
       "\n",
       "    .dataframe tbody tr th {\n",
       "        vertical-align: top;\n",
       "    }\n",
       "\n",
       "    .dataframe thead th {\n",
       "        text-align: right;\n",
       "    }\n",
       "</style>\n",
       "<table border=\"1\" class=\"dataframe\">\n",
       "  <thead>\n",
       "    <tr style=\"text-align: right;\">\n",
       "      <th></th>\n",
       "      <th>Número de asiento</th>\n",
       "      <th>Fecha</th>\n",
       "      <th>Concepto</th>\n",
       "      <th>Cuenta</th>\n",
       "      <th>Nombre de cuenta</th>\n",
       "      <th>Debe</th>\n",
       "      <th>Haber</th>\n",
       "    </tr>\n",
       "  </thead>\n",
       "  <tbody>\n",
       "    <tr>\n",
       "      <th>0</th>\n",
       "      <td>0</td>\n",
       "      <td>2022-03-14</td>\n",
       "      <td>Ampliación de capital</td>\n",
       "      <td>572</td>\n",
       "      <td>Bancos e instituciones de crédito c/c vista, e...</td>\n",
       "      <td>750000</td>\n",
       "      <td>None</td>\n",
       "    </tr>\n",
       "    <tr>\n",
       "      <th>1</th>\n",
       "      <td>0</td>\n",
       "      <td>2022-03-14</td>\n",
       "      <td>Ampliación de capital</td>\n",
       "      <td>100</td>\n",
       "      <td>Capital social</td>\n",
       "      <td>None</td>\n",
       "      <td>750000</td>\n",
       "    </tr>\n",
       "    <tr>\n",
       "      <th>2</th>\n",
       "      <td>1</td>\n",
       "      <td>2022-04-10</td>\n",
       "      <td>Pago del alquiler</td>\n",
       "      <td>621</td>\n",
       "      <td>Arrendamientos y cánones</td>\n",
       "      <td>150000</td>\n",
       "      <td>None</td>\n",
       "    </tr>\n",
       "    <tr>\n",
       "      <th>3</th>\n",
       "      <td>1</td>\n",
       "      <td>2022-04-10</td>\n",
       "      <td>Pago del alquiler</td>\n",
       "      <td>572</td>\n",
       "      <td>Bancos e instituciones de crédito c/c vista, e...</td>\n",
       "      <td>None</td>\n",
       "      <td>150000</td>\n",
       "    </tr>\n",
       "    <tr>\n",
       "      <th>4</th>\n",
       "      <td>2</td>\n",
       "      <td>2023-01-25</td>\n",
       "      <td>Compra de maquinaria</td>\n",
       "      <td>213</td>\n",
       "      <td>Maquinaria</td>\n",
       "      <td>50000</td>\n",
       "      <td>None</td>\n",
       "    </tr>\n",
       "    <tr>\n",
       "      <th>5</th>\n",
       "      <td>2</td>\n",
       "      <td>2023-01-25</td>\n",
       "      <td>Compra de maquinaria</td>\n",
       "      <td>572</td>\n",
       "      <td>Bancos e instituciones de crédito c/c vista, e...</td>\n",
       "      <td>None</td>\n",
       "      <td>50000</td>\n",
       "    </tr>\n",
       "    <tr>\n",
       "      <th>6</th>\n",
       "      <td>3</td>\n",
       "      <td>2023-01-25</td>\n",
       "      <td>Compra de mercaderías</td>\n",
       "      <td>600</td>\n",
       "      <td>Compras de mercaderías</td>\n",
       "      <td>800000</td>\n",
       "      <td>None</td>\n",
       "    </tr>\n",
       "    <tr>\n",
       "      <th>7</th>\n",
       "      <td>3</td>\n",
       "      <td>2023-01-25</td>\n",
       "      <td>Compra de mercaderías</td>\n",
       "      <td>572</td>\n",
       "      <td>Bancos e instituciones de crédito c/c vista, e...</td>\n",
       "      <td>None</td>\n",
       "      <td>500000</td>\n",
       "    </tr>\n",
       "    <tr>\n",
       "      <th>8</th>\n",
       "      <td>3</td>\n",
       "      <td>2023-01-25</td>\n",
       "      <td>Compra de mercaderías</td>\n",
       "      <td>400</td>\n",
       "      <td>Proveedores</td>\n",
       "      <td>None</td>\n",
       "      <td>300000</td>\n",
       "    </tr>\n",
       "    <tr>\n",
       "      <th>9</th>\n",
       "      <td>4</td>\n",
       "      <td>2023-01-25</td>\n",
       "      <td>Ventas (NO ENTIENDO)</td>\n",
       "      <td>572</td>\n",
       "      <td>Bancos e instituciones de crédito c/c vista, e...</td>\n",
       "      <td>1800000</td>\n",
       "      <td>None</td>\n",
       "    </tr>\n",
       "    <tr>\n",
       "      <th>10</th>\n",
       "      <td>4</td>\n",
       "      <td>2023-01-25</td>\n",
       "      <td>Ventas (NO ENTIENDO)</td>\n",
       "      <td>700</td>\n",
       "      <td>Ventas de mercaderías</td>\n",
       "      <td>None</td>\n",
       "      <td>1800000</td>\n",
       "    </tr>\n",
       "    <tr>\n",
       "      <th>11</th>\n",
       "      <td>5</td>\n",
       "      <td>2023-01-25</td>\n",
       "      <td>Pago de sueldos</td>\n",
       "      <td>640</td>\n",
       "      <td>Sueldos y salarios</td>\n",
       "      <td>160000</td>\n",
       "      <td>None</td>\n",
       "    </tr>\n",
       "    <tr>\n",
       "      <th>12</th>\n",
       "      <td>5</td>\n",
       "      <td>2023-01-25</td>\n",
       "      <td>Pago de sueldos</td>\n",
       "      <td>572</td>\n",
       "      <td>Bancos e instituciones de crédito c/c vista, e...</td>\n",
       "      <td>None</td>\n",
       "      <td>160000</td>\n",
       "    </tr>\n",
       "  </tbody>\n",
       "</table>\n",
       "</div>"
      ],
      "text/plain": [
       "    Número de asiento       Fecha               Concepto Cuenta  \\\n",
       "0                   0  2022-03-14  Ampliación de capital    572   \n",
       "1                   0  2022-03-14  Ampliación de capital    100   \n",
       "2                   1  2022-04-10      Pago del alquiler    621   \n",
       "3                   1  2022-04-10      Pago del alquiler    572   \n",
       "4                   2  2023-01-25   Compra de maquinaria    213   \n",
       "5                   2  2023-01-25   Compra de maquinaria    572   \n",
       "6                   3  2023-01-25  Compra de mercaderías    600   \n",
       "7                   3  2023-01-25  Compra de mercaderías    572   \n",
       "8                   3  2023-01-25  Compra de mercaderías    400   \n",
       "9                   4  2023-01-25   Ventas (NO ENTIENDO)    572   \n",
       "10                  4  2023-01-25   Ventas (NO ENTIENDO)    700   \n",
       "11                  5  2023-01-25        Pago de sueldos    640   \n",
       "12                  5  2023-01-25        Pago de sueldos    572   \n",
       "\n",
       "                                     Nombre de cuenta     Debe    Haber  \n",
       "0   Bancos e instituciones de crédito c/c vista, e...   750000     None  \n",
       "1                                      Capital social     None   750000  \n",
       "2                            Arrendamientos y cánones   150000     None  \n",
       "3   Bancos e instituciones de crédito c/c vista, e...     None   150000  \n",
       "4                                          Maquinaria    50000     None  \n",
       "5   Bancos e instituciones de crédito c/c vista, e...     None    50000  \n",
       "6                              Compras de mercaderías   800000     None  \n",
       "7   Bancos e instituciones de crédito c/c vista, e...     None   500000  \n",
       "8                                         Proveedores     None   300000  \n",
       "9   Bancos e instituciones de crédito c/c vista, e...  1800000     None  \n",
       "10                              Ventas de mercaderías     None  1800000  \n",
       "11                                 Sueldos y salarios   160000     None  \n",
       "12  Bancos e instituciones de crédito c/c vista, e...     None   160000  "
      ]
     },
     "execution_count": 4,
     "metadata": {},
     "output_type": "execute_result"
    }
   ],
   "source": [
    "contabilidad_empresa_2022.libro_diario.tabla()"
   ]
  },
  {
   "attachments": {},
   "cell_type": "markdown",
   "metadata": {},
   "source": [
    "## Guardar y leer libros diarios en CSV"
   ]
  },
  {
   "cell_type": "code",
   "execution_count": 5,
   "metadata": {},
   "outputs": [],
   "source": [
    "contabilidad_empresa_2022.libro_diario.save_csv(\"libro_diario_2022\")"
   ]
  },
  {
   "cell_type": "code",
   "execution_count": 6,
   "metadata": {},
   "outputs": [
    {
     "data": {
      "text/html": [
       "<div>\n",
       "<style scoped>\n",
       "    .dataframe tbody tr th:only-of-type {\n",
       "        vertical-align: middle;\n",
       "    }\n",
       "\n",
       "    .dataframe tbody tr th {\n",
       "        vertical-align: top;\n",
       "    }\n",
       "\n",
       "    .dataframe thead th {\n",
       "        text-align: right;\n",
       "    }\n",
       "</style>\n",
       "<table border=\"1\" class=\"dataframe\">\n",
       "  <thead>\n",
       "    <tr style=\"text-align: right;\">\n",
       "      <th></th>\n",
       "      <th>Número de asiento</th>\n",
       "      <th>Fecha</th>\n",
       "      <th>Concepto</th>\n",
       "      <th>Cuenta</th>\n",
       "      <th>Nombre de cuenta</th>\n",
       "      <th>Debe</th>\n",
       "      <th>Haber</th>\n",
       "    </tr>\n",
       "  </thead>\n",
       "  <tbody>\n",
       "    <tr>\n",
       "      <th>0</th>\n",
       "      <td>0</td>\n",
       "      <td>2022-03-14</td>\n",
       "      <td>Ampliación de capital</td>\n",
       "      <td>572</td>\n",
       "      <td>Bancos e instituciones de crédito c/c vista, e...</td>\n",
       "      <td>750000</td>\n",
       "      <td>None</td>\n",
       "    </tr>\n",
       "    <tr>\n",
       "      <th>1</th>\n",
       "      <td>0</td>\n",
       "      <td>2022-03-14</td>\n",
       "      <td>Ampliación de capital</td>\n",
       "      <td>100</td>\n",
       "      <td>Capital social</td>\n",
       "      <td>None</td>\n",
       "      <td>750000</td>\n",
       "    </tr>\n",
       "    <tr>\n",
       "      <th>2</th>\n",
       "      <td>1</td>\n",
       "      <td>2022-04-10</td>\n",
       "      <td>Pago del alquiler</td>\n",
       "      <td>621</td>\n",
       "      <td>Arrendamientos y cánones</td>\n",
       "      <td>150000</td>\n",
       "      <td>None</td>\n",
       "    </tr>\n",
       "    <tr>\n",
       "      <th>3</th>\n",
       "      <td>1</td>\n",
       "      <td>2022-04-10</td>\n",
       "      <td>Pago del alquiler</td>\n",
       "      <td>572</td>\n",
       "      <td>Bancos e instituciones de crédito c/c vista, e...</td>\n",
       "      <td>None</td>\n",
       "      <td>150000</td>\n",
       "    </tr>\n",
       "    <tr>\n",
       "      <th>4</th>\n",
       "      <td>2</td>\n",
       "      <td>2023-01-25</td>\n",
       "      <td>Compra de maquinaria</td>\n",
       "      <td>213</td>\n",
       "      <td>Maquinaria</td>\n",
       "      <td>50000</td>\n",
       "      <td>None</td>\n",
       "    </tr>\n",
       "    <tr>\n",
       "      <th>5</th>\n",
       "      <td>2</td>\n",
       "      <td>2023-01-25</td>\n",
       "      <td>Compra de maquinaria</td>\n",
       "      <td>572</td>\n",
       "      <td>Bancos e instituciones de crédito c/c vista, e...</td>\n",
       "      <td>None</td>\n",
       "      <td>50000</td>\n",
       "    </tr>\n",
       "    <tr>\n",
       "      <th>6</th>\n",
       "      <td>3</td>\n",
       "      <td>2023-01-25</td>\n",
       "      <td>Compra de mercaderías</td>\n",
       "      <td>600</td>\n",
       "      <td>Compras de mercaderías</td>\n",
       "      <td>800000</td>\n",
       "      <td>None</td>\n",
       "    </tr>\n",
       "    <tr>\n",
       "      <th>7</th>\n",
       "      <td>3</td>\n",
       "      <td>2023-01-25</td>\n",
       "      <td>Compra de mercaderías</td>\n",
       "      <td>572</td>\n",
       "      <td>Bancos e instituciones de crédito c/c vista, e...</td>\n",
       "      <td>None</td>\n",
       "      <td>500000</td>\n",
       "    </tr>\n",
       "    <tr>\n",
       "      <th>8</th>\n",
       "      <td>3</td>\n",
       "      <td>2023-01-25</td>\n",
       "      <td>Compra de mercaderías</td>\n",
       "      <td>400</td>\n",
       "      <td>Proveedores</td>\n",
       "      <td>None</td>\n",
       "      <td>300000</td>\n",
       "    </tr>\n",
       "    <tr>\n",
       "      <th>9</th>\n",
       "      <td>4</td>\n",
       "      <td>2023-01-25</td>\n",
       "      <td>Ventas (NO ENTIENDO)</td>\n",
       "      <td>572</td>\n",
       "      <td>Bancos e instituciones de crédito c/c vista, e...</td>\n",
       "      <td>1800000</td>\n",
       "      <td>None</td>\n",
       "    </tr>\n",
       "    <tr>\n",
       "      <th>10</th>\n",
       "      <td>4</td>\n",
       "      <td>2023-01-25</td>\n",
       "      <td>Ventas (NO ENTIENDO)</td>\n",
       "      <td>700</td>\n",
       "      <td>Ventas de mercaderías</td>\n",
       "      <td>None</td>\n",
       "      <td>1800000</td>\n",
       "    </tr>\n",
       "    <tr>\n",
       "      <th>11</th>\n",
       "      <td>5</td>\n",
       "      <td>2023-01-25</td>\n",
       "      <td>Pago de sueldos</td>\n",
       "      <td>640</td>\n",
       "      <td>Sueldos y salarios</td>\n",
       "      <td>160000</td>\n",
       "      <td>None</td>\n",
       "    </tr>\n",
       "    <tr>\n",
       "      <th>12</th>\n",
       "      <td>5</td>\n",
       "      <td>2023-01-25</td>\n",
       "      <td>Pago de sueldos</td>\n",
       "      <td>572</td>\n",
       "      <td>Bancos e instituciones de crédito c/c vista, e...</td>\n",
       "      <td>None</td>\n",
       "      <td>160000</td>\n",
       "    </tr>\n",
       "  </tbody>\n",
       "</table>\n",
       "</div>"
      ],
      "text/plain": [
       "    Número de asiento       Fecha               Concepto Cuenta  \\\n",
       "0                   0  2022-03-14  Ampliación de capital    572   \n",
       "1                   0  2022-03-14  Ampliación de capital    100   \n",
       "2                   1  2022-04-10      Pago del alquiler    621   \n",
       "3                   1  2022-04-10      Pago del alquiler    572   \n",
       "4                   2  2023-01-25   Compra de maquinaria    213   \n",
       "5                   2  2023-01-25   Compra de maquinaria    572   \n",
       "6                   3  2023-01-25  Compra de mercaderías    600   \n",
       "7                   3  2023-01-25  Compra de mercaderías    572   \n",
       "8                   3  2023-01-25  Compra de mercaderías    400   \n",
       "9                   4  2023-01-25   Ventas (NO ENTIENDO)    572   \n",
       "10                  4  2023-01-25   Ventas (NO ENTIENDO)    700   \n",
       "11                  5  2023-01-25        Pago de sueldos    640   \n",
       "12                  5  2023-01-25        Pago de sueldos    572   \n",
       "\n",
       "                                     Nombre de cuenta     Debe    Haber  \n",
       "0   Bancos e instituciones de crédito c/c vista, e...   750000     None  \n",
       "1                                      Capital social     None   750000  \n",
       "2                            Arrendamientos y cánones   150000     None  \n",
       "3   Bancos e instituciones de crédito c/c vista, e...     None   150000  \n",
       "4                                          Maquinaria    50000     None  \n",
       "5   Bancos e instituciones de crédito c/c vista, e...     None    50000  \n",
       "6                              Compras de mercaderías   800000     None  \n",
       "7   Bancos e instituciones de crédito c/c vista, e...     None   500000  \n",
       "8                                         Proveedores     None   300000  \n",
       "9   Bancos e instituciones de crédito c/c vista, e...  1800000     None  \n",
       "10                              Ventas de mercaderías     None  1800000  \n",
       "11                                 Sueldos y salarios   160000     None  \n",
       "12  Bancos e instituciones de crédito c/c vista, e...     None   160000  "
      ]
     },
     "execution_count": 6,
     "metadata": {},
     "output_type": "execute_result"
    }
   ],
   "source": [
    "contabilidad_empresa_2022.libro_diario.clear()\n",
    "contabilidad_empresa_2022.libro_diario.load_csv('libro_diario_2022')\n",
    "contabilidad_empresa_2022.libro_diario.tabla()"
   ]
  },
  {
   "attachments": {},
   "cell_type": "markdown",
   "metadata": {},
   "source": [
    "## Libro mayor"
   ]
  },
  {
   "attachments": {},
   "cell_type": "markdown",
   "metadata": {},
   "source": [
    "## Balance"
   ]
  },
  {
   "cell_type": "code",
   "execution_count": 7,
   "id": "52f754e0-339e-420f-8ebf-ad656d5701f2",
   "metadata": {},
   "outputs": [
    {
     "data": {
      "text/plain": [
       "\n",
       "Activo\n",
       "\tActivo no corriente\n",
       "\t\tInmovilizado material\t50000\n",
       "\tActivo corriente\n",
       "\t\tEfectivo y otros activos líquidos equivalentes\t1690000\n",
       "Patrimonio neto\n",
       "\tFondos propios\n",
       "\t\tCapital\t750000\n",
       "\tAjustes por cambios de valor\n",
       "\tSubvenciones, donaciones y legados recibidos\n",
       "Pasivo\n",
       "\tPasivo no corriente\n",
       "\tPasivo corriente\n",
       "\t\tAcreedores comerciales y otras cuentas a pagar\t300000"
      ]
     },
     "execution_count": 7,
     "metadata": {},
     "output_type": "execute_result"
    }
   ],
   "source": [
    "contabilidad_empresa_2022.balance"
   ]
  },
  {
   "cell_type": "code",
   "execution_count": 8,
   "id": "2eaa9c0c-dd59-4cc6-8131-321a964bac9a",
   "metadata": {},
   "outputs": [
    {
     "name": "stdout",
     "output_type": "stream",
     "text": [
      "{'Activo': 1740000, 'Patrimonio neto': 750000, 'Pasivo': 300000}\n"
     ]
    },
    {
     "data": {
      "text/plain": [
       "690000"
      ]
     },
     "execution_count": 8,
     "metadata": {},
     "output_type": "execute_result"
    }
   ],
   "source": [
    "print(contabilidad_empresa_2022.balance.totales)\n",
    "\n",
    "contabilidad_empresa_2022.balance.totales['Activo']\\\n",
    "    -contabilidad_empresa_2022.balance.totales['Pasivo']\\\n",
    "    -contabilidad_empresa_2022.balance.totales['Patrimonio neto']"
   ]
  },
  {
   "cell_type": "code",
   "execution_count": 9,
   "metadata": {},
   "outputs": [
    {
     "data": {
      "text/plain": [
       "{100: -750000,\n",
       " 213: 50000,\n",
       " 400: -300000,\n",
       " 572: 1690000,\n",
       " 600: 800000,\n",
       " 621: 150000,\n",
       " 640: 160000,\n",
       " 700: -1800000}"
      ]
     },
     "execution_count": 9,
     "metadata": {},
     "output_type": "execute_result"
    }
   ],
   "source": [
    "contabilidad_empresa_2022.balance.libro.totales"
   ]
  },
  {
   "cell_type": "code",
   "execution_count": null,
   "metadata": {},
   "outputs": [],
   "source": []
  }
 ],
 "metadata": {
  "kernelspec": {
   "display_name": "Python 3",
   "language": "python",
   "name": "python3"
  },
  "language_info": {
   "codemirror_mode": {
    "name": "ipython",
    "version": 3
   },
   "file_extension": ".py",
   "mimetype": "text/x-python",
   "name": "python",
   "nbconvert_exporter": "python",
   "pygments_lexer": "ipython3",
   "version": "3.10.4"
  },
  "orig_nbformat": 4,
  "vscode": {
   "interpreter": {
    "hash": "aee8b7b246df8f9039afb4144a1f6fd8d2ca17a180786b69acc140d282b71a49"
   }
  }
 },
 "nbformat": 4,
 "nbformat_minor": 2
}
