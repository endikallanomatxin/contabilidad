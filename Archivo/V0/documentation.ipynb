{
 "cells": [
  {
   "cell_type": "markdown",
   "id": "a21e7633-2003-4479-a0f9-bbbcfcc5f259",
   "metadata": {},
   "source": [
    "# Cómo utilizar el módulo de contabilidad"
   ]
  },
  {
   "attachments": {},
   "cell_type": "markdown",
   "id": "64e9c7b0-cab5-459d-ad7b-1e2d91b77b22",
   "metadata": {},
   "source": [
    "Por hacer:\n",
    "- Regularización de pérdidas y ganancias\n",
    "- Añadir opción de cuentas custom para el balance, como la de clientes\n",
    "- Actualmente la única clase que tiene sentido guardar es el libro diario. Debería pensarse en que el balance tuviera también una forma de guardarse."
   ]
  },
  {
   "cell_type": "code",
   "execution_count": 1,
   "id": "bccec186-be4d-4118-b784-9a99671bdbe7",
   "metadata": {},
   "outputs": [],
   "source": [
    "from contabilidad import *"
   ]
  },
  {
   "cell_type": "markdown",
   "id": "488df69d-98ba-4ca0-9f0a-72a826deea42",
   "metadata": {},
   "source": [
    "El módulo tiene las siguientes clases:\n",
    "- El asiento\n",
    "- El libro diario, que es una lista de asientos\n",
    "- El libro mayor, que se construye a partir del libro diario"
   ]
  },
  {
   "cell_type": "markdown",
   "id": "35df7b68-3b76-4bdb-a711-c3f0a4558b3c",
   "metadata": {},
   "source": [
    "## Ejemplo"
   ]
  },
  {
   "cell_type": "markdown",
   "id": "d24c4a79-4eae-46e6-a52f-bd776a903e88",
   "metadata": {},
   "source": [
    "Al principio del año se comienza un nuevo libro diario"
   ]
  },
  {
   "cell_type": "code",
   "execution_count": 2,
   "id": "fd1e5efe-b173-49ff-9b6d-e11136efbd4e",
   "metadata": {},
   "outputs": [],
   "source": [
    "libro_diario_2022 = LibroDiario()"
   ]
  },
  {
   "cell_type": "markdown",
   "id": "e7e327d6-abf7-41ba-8026-fa3a1df3f046",
   "metadata": {},
   "source": [
    "El libro diario funciona como una lista (es clase hija de la clase list) y para añadir asientos al libro se utiliza el método .append\n",
    "\n",
    "Cada asiento se compone de un concepto, unos diccionarios para el debe y otro para el haber (cuenta:cantidad, cuenta:cantidad) y una fecha"
   ]
  },
  {
   "cell_type": "code",
   "execution_count": 3,
   "id": "28ba496d-4ee9-4f99-886a-eda5503549f9",
   "metadata": {},
   "outputs": [],
   "source": [
    "libro_diario_2022.append(Asiento(\"Ampliación de capital\", {572: 750000}, {100:750000}, dt.date(2022, 3, 14)))\n",
    "libro_diario_2022.append(Asiento(\"Pago del alquiler\", {621: 150000}, {572:150000}, dt.date(2022, 4, 10)))\n",
    "libro_diario_2022.append(Asiento(\"Compra de maquinaria\", {213: 50000}, {572:50000}, dt.date.today()))\n",
    "libro_diario_2022.append(Asiento(\"Compra de mercaderías\", {600: 800000}, {572:500000, 400:300000}, dt.date.today()))\n",
    "libro_diario_2022.append(Asiento(\"Ventas (NO ENTIENDO)\", {572: 1800000}, {700:1800000}, dt.date.today()))\n",
    "libro_diario_2022.append(Asiento(\"Pago de sueldos\", {640: 160000}, {572:160000}, dt.date.today()))\n",
    "# libro_diario_2022"
   ]
  },
  {
   "cell_type": "code",
   "execution_count": 4,
   "id": "fb395529-23e3-48f7-b2ba-acdd73fd2cb2",
   "metadata": {},
   "outputs": [
    {
     "data": {
      "text/html": [
       "<div>\n",
       "<style scoped>\n",
       "    .dataframe tbody tr th:only-of-type {\n",
       "        vertical-align: middle;\n",
       "    }\n",
       "\n",
       "    .dataframe tbody tr th {\n",
       "        vertical-align: top;\n",
       "    }\n",
       "\n",
       "    .dataframe thead th {\n",
       "        text-align: right;\n",
       "    }\n",
       "</style>\n",
       "<table border=\"1\" class=\"dataframe\">\n",
       "  <thead>\n",
       "    <tr style=\"text-align: right;\">\n",
       "      <th></th>\n",
       "      <th>Fecha</th>\n",
       "      <th>Concepto</th>\n",
       "      <th>Cuenta</th>\n",
       "      <th>Nombre de cuenta</th>\n",
       "      <th>Debe</th>\n",
       "      <th>Haber</th>\n",
       "    </tr>\n",
       "  </thead>\n",
       "  <tbody>\n",
       "    <tr>\n",
       "      <th>0</th>\n",
       "      <td>2022-03-14</td>\n",
       "      <td>Ampliación de capital</td>\n",
       "      <td>572</td>\n",
       "      <td>Bancos e instituciones de crédito c/c vista, e...</td>\n",
       "      <td>750000</td>\n",
       "      <td>None</td>\n",
       "    </tr>\n",
       "    <tr>\n",
       "      <th>1</th>\n",
       "      <td>2022-03-14</td>\n",
       "      <td>Ampliación de capital</td>\n",
       "      <td>100</td>\n",
       "      <td>Capital social</td>\n",
       "      <td>None</td>\n",
       "      <td>750000</td>\n",
       "    </tr>\n",
       "  </tbody>\n",
       "</table>\n",
       "</div>"
      ],
      "text/plain": [
       "        Fecha               Concepto Cuenta  \\\n",
       "0  2022-03-14  Ampliación de capital    572   \n",
       "1  2022-03-14  Ampliación de capital    100   \n",
       "\n",
       "                                    Nombre de cuenta    Debe   Haber  \n",
       "0  Bancos e instituciones de crédito c/c vista, e...  750000    None  \n",
       "1                                     Capital social    None  750000  "
      ]
     },
     "execution_count": 4,
     "metadata": {},
     "output_type": "execute_result"
    }
   ],
   "source": [
    "libro_diario_2022[0].tabla()"
   ]
  },
  {
   "cell_type": "code",
   "execution_count": 5,
   "id": "783368fe-8667-4b9b-8177-158b35f48f45",
   "metadata": {},
   "outputs": [],
   "source": [
    "# libro_diario_2022.mostrar_por_dias()"
   ]
  },
  {
   "cell_type": "code",
   "execution_count": 6,
   "id": "e382c55c-8765-4904-8c5d-6b4b94e362d5",
   "metadata": {},
   "outputs": [],
   "source": [
    "#libro_diario_2022.tabla()"
   ]
  },
  {
   "cell_type": "code",
   "execution_count": 7,
   "id": "8c61a93e-780a-48ea-bebb-7a9368108ce3",
   "metadata": {},
   "outputs": [],
   "source": [
    "libro_diario_2022.save_csv(\"libro_diario_2022\")"
   ]
  },
  {
   "cell_type": "code",
   "execution_count": 8,
   "id": "06520159-22c3-4dca-984f-d655d7af2a2e",
   "metadata": {},
   "outputs": [],
   "source": [
    "libro_mayor_2022 = LibroMayor(libro_diario_2022)\n",
    "#libro_mayor_2022"
   ]
  },
  {
   "cell_type": "code",
   "execution_count": 9,
   "id": "739a3098-1b2c-4104-87cf-c036ef7029a6",
   "metadata": {},
   "outputs": [],
   "source": [
    "libro_mayor_2022.calcular_totales()\n",
    "# libro_mayor_2022.totales[572]"
   ]
  },
  {
   "cell_type": "code",
   "execution_count": 10,
   "id": "42dd871f-ed09-4148-b0fa-bbdb3e8cf898",
   "metadata": {},
   "outputs": [],
   "source": [
    "libro_diario = LibroDiario()\n",
    "#libro_diario.load_csv('libro_diario_2022')"
   ]
  },
  {
   "cell_type": "code",
   "execution_count": 11,
   "id": "52f754e0-339e-420f-8ebf-ad656d5701f2",
   "metadata": {},
   "outputs": [
    {
     "data": {
      "text/plain": [
       "\n",
       "Activo\n",
       "\tActivo no corriente\n",
       "\t\tInmovilizado material\t50000\n",
       "\tActivo corriente\n",
       "\t\tEfectivo y otros activos líquidos equivalentes\t1690000\n",
       "Patrimonio neto\n",
       "\tFondos propios\n",
       "\t\tCapital\t750000\n",
       "\tAjustes por cambios de valor\n",
       "\tSubvenciones, donaciones y legados recibidos\n",
       "Pasivo\n",
       "\tPasivo no corriente\n",
       "\tPasivo corriente\n",
       "\t\tAcreedores comerciales y otras cuentas a pagar\t300000"
      ]
     },
     "execution_count": 11,
     "metadata": {},
     "output_type": "execute_result"
    }
   ],
   "source": [
    "balance_2022 = Balance(libro_mayor_2022)\n",
    "balance_2022"
   ]
  },
  {
   "cell_type": "code",
   "execution_count": 12,
   "id": "2eaa9c0c-dd59-4cc6-8131-321a964bac9a",
   "metadata": {},
   "outputs": [
    {
     "name": "stdout",
     "output_type": "stream",
     "text": [
      "{'Activo': 1740000, 'Patrimonio neto': 750000, 'Pasivo': 300000}\n"
     ]
    },
    {
     "data": {
      "text/plain": [
       "1050000"
      ]
     },
     "execution_count": 12,
     "metadata": {},
     "output_type": "execute_result"
    }
   ],
   "source": [
    "print(balance_2022.totales)\n",
    "balance_2022.totales[\"Pasivo\"] + balance_2022.totales[\"Patrimonio neto\"]"
   ]
  },
  {
   "cell_type": "markdown",
   "id": "c876a65f-4dc5-4dea-a1b1-065d1f07e9ff",
   "metadata": {},
   "source": [
    "No cuadra porque no está calculada la cuenta de pérdidas y ganancias"
   ]
  },
  {
   "cell_type": "code",
   "execution_count": null,
   "id": "207cfafc",
   "metadata": {},
   "outputs": [],
   "source": []
  },
  {
   "attachments": {},
   "cell_type": "markdown",
   "id": "5097fbe2",
   "metadata": {},
   "source": [
    "## Todas las funciones"
   ]
  },
  {
   "cell_type": "markdown",
   "id": "f005c137",
   "metadata": {},
   "source": []
  }
 ],
 "metadata": {
  "kernelspec": {
   "display_name": "Python 3",
   "language": "python",
   "name": "python3"
  },
  "language_info": {
   "codemirror_mode": {
    "name": "ipython",
    "version": 3
   },
   "file_extension": ".py",
   "mimetype": "text/x-python",
   "name": "python",
   "nbconvert_exporter": "python",
   "pygments_lexer": "ipython3",
   "version": "3.10.4"
  },
  "vscode": {
   "interpreter": {
    "hash": "aee8b7b246df8f9039afb4144a1f6fd8d2ca17a180786b69acc140d282b71a49"
   }
  }
 },
 "nbformat": 4,
 "nbformat_minor": 5
}
